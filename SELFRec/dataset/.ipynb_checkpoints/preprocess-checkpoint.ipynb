{
 "cells": [
  {
   "cell_type": "code",
   "execution_count": 46,
   "id": "01886819-d65a-4f92-a4f1-cd5fce349294",
   "metadata": {},
   "outputs": [],
   "source": [
    "import os\n",
    "import random\n",
    "from collections import defaultdict\n",
    "from tqdm import tqdm, trange"
   ]
  },
  {
   "cell_type": "code",
   "execution_count": 86,
   "id": "da82183c-a501-41e6-8649-9026a4745253",
   "metadata": {},
   "outputs": [],
   "source": [
    "dataset = 'amazon-beauty'"
   ]
  },
  {
   "cell_type": "code",
   "execution_count": 87,
   "id": "38d47078-9c10-4198-9362-d3d0b4731026",
   "metadata": {},
   "outputs": [],
   "source": [
    "os.makedirs(dataset, exist_ok=True)"
   ]
  },
  {
   "cell_type": "code",
   "execution_count": 88,
   "id": "e3eeb4c0-d100-446c-91ae-f3d64547c60b",
   "metadata": {},
   "outputs": [],
   "source": [
    "users, items = set(), set()\n",
    "user2item = defaultdict(list)"
   ]
  },
  {
   "cell_type": "code",
   "execution_count": 89,
   "id": "8af5d2c3-fdf2-4ff3-a129-b77cc7af5a8c",
   "metadata": {},
   "outputs": [
    {
     "ename": "ValueError",
     "evalue": "too many values to unpack (expected 3)",
     "output_type": "error",
     "traceback": [
      "\u001b[0;31m---------------------------------------------------------------------------\u001b[0m",
      "\u001b[0;31mValueError\u001b[0m                                Traceback (most recent call last)",
      "\u001b[0;32m/tmp/ipykernel_36080/454582775.py\u001b[0m in \u001b[0;36m<module>\u001b[0;34m\u001b[0m\n\u001b[1;32m      4\u001b[0m     \u001b[0;32mfor\u001b[0m \u001b[0mline\u001b[0m \u001b[0;32min\u001b[0m \u001b[0mf\u001b[0m\u001b[0;34m:\u001b[0m\u001b[0;34m\u001b[0m\u001b[0;34m\u001b[0m\u001b[0m\n\u001b[1;32m      5\u001b[0m         \u001b[0mtrain\u001b[0m\u001b[0;34m.\u001b[0m\u001b[0mappend\u001b[0m\u001b[0;34m(\u001b[0m\u001b[0mline\u001b[0m\u001b[0;34m)\u001b[0m\u001b[0;34m\u001b[0m\u001b[0;34m\u001b[0m\u001b[0m\n\u001b[0;32m----> 6\u001b[0;31m         \u001b[0muser\u001b[0m\u001b[0;34m,\u001b[0m \u001b[0mitem\u001b[0m\u001b[0;34m,\u001b[0m \u001b[0m_\u001b[0m \u001b[0;34m=\u001b[0m \u001b[0mline\u001b[0m\u001b[0;34m.\u001b[0m\u001b[0msplit\u001b[0m\u001b[0;34m(\u001b[0m\u001b[0;34m)\u001b[0m\u001b[0;34m\u001b[0m\u001b[0;34m\u001b[0m\u001b[0m\n\u001b[0m\u001b[1;32m      7\u001b[0m         \u001b[0musers\u001b[0m\u001b[0;34m.\u001b[0m\u001b[0madd\u001b[0m\u001b[0;34m(\u001b[0m\u001b[0muser\u001b[0m\u001b[0;34m)\u001b[0m\u001b[0;34m\u001b[0m\u001b[0;34m\u001b[0m\u001b[0m\n\u001b[1;32m      8\u001b[0m         \u001b[0mitems\u001b[0m\u001b[0;34m.\u001b[0m\u001b[0madd\u001b[0m\u001b[0;34m(\u001b[0m\u001b[0mitem\u001b[0m\u001b[0;34m)\u001b[0m\u001b[0;34m\u001b[0m\u001b[0;34m\u001b[0m\u001b[0m\n",
      "\u001b[0;31mValueError\u001b[0m: too many values to unpack (expected 3)"
     ]
    }
   ],
   "source": [
    "train = []\n",
    "\n",
    "with open(f'raw/{dataset}/train.txt', 'r') as f:\n",
    "    for line in f:\n",
    "        train.append(line)\n",
    "        user, item, _ = line.split()\n",
    "        users.add(user)\n",
    "        items.add(item)\n",
    "        user2item[user].append(line)\n",
    "        \n",
    "len(train), len(users), len(items)"
   ]
  },
  {
   "cell_type": "code",
   "execution_count": 77,
   "id": "7f81cbb9-003e-4662-85c1-f059463718ec",
   "metadata": {},
   "outputs": [
    {
     "data": {
      "text/plain": [
       "(324147, 31668, 38048)"
      ]
     },
     "execution_count": 77,
     "metadata": {},
     "output_type": "execute_result"
    }
   ],
   "source": [
    "test = []\n",
    "\n",
    "with open(f'raw/{dataset}/test.txt', 'r') as f:\n",
    "    for line in f:\n",
    "        test.append(line)\n",
    "        user, item, _ = line.split()\n",
    "        users.add(user)\n",
    "        items.add(item)\n",
    "        user2item[user].append(line)\n",
    "        \n",
    "len(test), len(users), len(items)"
   ]
  },
  {
   "cell_type": "code",
   "execution_count": 78,
   "id": "6aa9e47c-0888-4769-a220-2be8684031d5",
   "metadata": {},
   "outputs": [
    {
     "name": "stdout",
     "output_type": "stream",
     "text": [
      "1092984 156140 312282\n"
     ]
    }
   ],
   "source": [
    "num_interaction = len(train) + len(test)\n",
    "\n",
    "num_train = int(0.7 * num_interaction)\n",
    "num_valid = int(0.1 * num_interaction)\n",
    "num_test = num_interaction - num_train - num_valid\n",
    "\n",
    "print(num_train, num_valid, num_test)"
   ]
  },
  {
   "cell_type": "code",
   "execution_count": 79,
   "id": "83e6b05b-532a-4106-b8da-564fbd924e6e",
   "metadata": {},
   "outputs": [
    {
     "name": "stderr",
     "output_type": "stream",
     "text": [
      "100%|█████████████████████████████████████████████████████████████████████████████████████████████████████████████████████████████████████████████████████████████████████████████████████████████████████████████████████| 31668/31668 [00:00<00:00, 59249.04it/s]\n"
     ]
    }
   ],
   "source": [
    "random.seed(2024)\n",
    "\n",
    "interactions_train, interactions = [], []\n",
    "for user in tqdm(user2item):\n",
    "    _i = random.sample(range(len(user2item[user])), 1)[0]\n",
    "    for i in range(len(user2item[user])):\n",
    "        if i == _i:\n",
    "            interactions_train.append(user2item[user][i])\n",
    "        else:\n",
    "            interactions.append(user2item[user][i])"
   ]
  },
  {
   "cell_type": "code",
   "execution_count": 80,
   "id": "43a8f4cc-e4bc-4813-bf91-404d8c7e86ef",
   "metadata": {},
   "outputs": [
    {
     "name": "stdout",
     "output_type": "stream",
     "text": [
      "1529738 1529738\n"
     ]
    },
    {
     "data": {
      "text/plain": [
       "(1092984, 156140, 312282)"
      ]
     },
     "execution_count": 80,
     "metadata": {},
     "output_type": "execute_result"
    }
   ],
   "source": [
    "random.seed(2024)\n",
    "\n",
    "random.shuffle(interactions)\n",
    "\n",
    "num_train = num_train - len(interactions_train)\n",
    "print(num_train + num_valid + num_test, len(interactions))\n",
    "\n",
    "interactions_train = interactions_train + interactions[:num_train]\n",
    "interactions_valid = interactions[num_train:num_train+num_valid]\n",
    "interactions_test = interactions[num_train+num_valid:]\n",
    "\n",
    "len(interactions_train), len(interactions_valid), len(interactions_test)"
   ]
  },
  {
   "cell_type": "code",
   "execution_count": 81,
   "id": "243eb319-a559-4bfe-b230-2d3d7800aef2",
   "metadata": {},
   "outputs": [
    {
     "data": {
      "text/plain": [
       "31668"
      ]
     },
     "execution_count": 81,
     "metadata": {},
     "output_type": "execute_result"
    }
   ],
   "source": [
    "users_train = set()\n",
    "\n",
    "for entry in train:\n",
    "    user, item, _ = entry.split()\n",
    "    users_train.add(user)\n",
    "    \n",
    "len(users_train)"
   ]
  },
  {
   "cell_type": "code",
   "execution_count": 82,
   "id": "167fd20f-4e3c-4a20-bc08-1d935152278f",
   "metadata": {},
   "outputs": [],
   "source": [
    "with open(f'{dataset}/train.txt', 'w') as f:\n",
    "    for entry in interactions_train:\n",
    "        f.write(entry)"
   ]
  },
  {
   "cell_type": "code",
   "execution_count": 83,
   "id": "e4f7cc20-6ea2-43a1-9198-09d10190491c",
   "metadata": {},
   "outputs": [],
   "source": [
    "with open(f'{dataset}/valid.txt', 'w') as f:\n",
    "    for entry in interactions_valid:\n",
    "        f.write(entry)"
   ]
  },
  {
   "cell_type": "code",
   "execution_count": 84,
   "id": "e463a1f1-b773-4824-94d6-3613b0db83c4",
   "metadata": {},
   "outputs": [],
   "source": [
    "with open(f'{dataset}/test.txt', 'w') as f:\n",
    "    for entry in interactions_test:\n",
    "        f.write(entry)"
   ]
  },
  {
   "cell_type": "code",
   "execution_count": null,
   "id": "075b339e-3b09-4b59-a3e0-3e7bcc43d86d",
   "metadata": {},
   "outputs": [],
   "source": []
  }
 ],
 "metadata": {
  "kernelspec": {
   "display_name": "Python 3 (ipykernel)",
   "language": "python",
   "name": "python3"
  },
  "language_info": {
   "codemirror_mode": {
    "name": "ipython",
    "version": 3
   },
   "file_extension": ".py",
   "mimetype": "text/x-python",
   "name": "python",
   "nbconvert_exporter": "python",
   "pygments_lexer": "ipython3",
   "version": "3.7.11"
  }
 },
 "nbformat": 4,
 "nbformat_minor": 5
}
